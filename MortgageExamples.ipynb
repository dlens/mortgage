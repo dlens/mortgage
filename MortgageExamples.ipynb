{
 "cells": [
  {
   "cell_type": "markdown",
   "metadata": {
    "toc": true
   },
   "source": [
    "<h1>Table of Contents<span class=\"tocSkip\"></span></h1>\n",
    "<div class=\"toc\"><ul class=\"toc-item\"><li><span><a href=\"#Mortgage-formula-stuff\" data-toc-modified-id=\"Mortgage-formula-stuff-1\"><span class=\"toc-item-num\">1&nbsp;&nbsp;</span>Mortgage formula stuff</a></span></li></ul></div>"
   ]
  },
  {
   "cell_type": "markdown",
   "metadata": {},
   "source": [
    "# Mortgage formula stuff"
   ]
  },
  {
   "cell_type": "code",
   "execution_count": 1,
   "metadata": {},
   "outputs": [],
   "source": [
    "import math"
   ]
  },
  {
   "cell_type": "code",
   "execution_count": 1,
   "metadata": {},
   "outputs": [],
   "source": [
    "def pmts(A, r, k, N, return_all=True):\n",
    "    '''\n",
    "    What are my monthly payments if I borrow A dollars at r APR compounded k times\n",
    "    a year with the payment at the very end of the compounding period, \n",
    "    paying it off after N payments?\n",
    "    '''\n",
    "    gamma = (1+r)**(1/k)\n",
    "    pmts=A*(1-gamma)/(1-gamma**N)*gamma**N\n",
    "    if return_all:\n",
    "        return {\"Payments\":pmts,\n",
    "               \"Total\":pmts*N}\n",
    "    else:\n",
    "        return pmts\n",
    "    \n",
    "def pmts_withover(A, r, k, N, over_amt):\n",
    "    '''\n",
    "    Calculates savings is you over pay on a mortgage loan for A dollars, at r APR\n",
    "    compounded k times a year and getting paid on that date.  First calls\n",
    "    pmts() to get the N payment amount.  Then I we add over_amt then we calculate the\n",
    "    amortization table, essentially, at the new payment amount.\n",
    "    '''\n",
    "    pmt = pmts(A, r, k, N, return_all=False)\n",
    "    new_pmt = pmt + over_amt\n",
    "    amount_left = A\n",
    "    gamma = (1+r)**(1/k)\n",
    "    total_paid = 0\n",
    "    pmt_count = 0\n",
    "    while amount_left > 0:\n",
    "        # Add interest to amount left\n",
    "        amount_left *= gamma\n",
    "        # Subtract our payment, or the amount left, whichever is less\n",
    "        if amount_left > new_pmt:\n",
    "            # Just subtract a payment\n",
    "            amount_left -= new_pmt\n",
    "            total_paid += new_pmt\n",
    "        else:\n",
    "            # Just subtract the amount left\n",
    "            total_paid += amount_left\n",
    "            amount_left = 0\n",
    "        pmt_count += 1\n",
    "    # Let's tell you everything\n",
    "    return {\n",
    "        \"Original Payments\": pmt,\n",
    "        \"Original Total\": pmt*N,\n",
    "        \"Original Number of Payments\":N,\n",
    "        \"New Payments\": new_pmt,\n",
    "        \"New Number of Payments\": pmt_count,\n",
    "        \"New Total\": total_paid,\n",
    "        \"Savings\": (pmt*N - total_paid)\n",
    "    }"
   ]
  },
  {
   "cell_type": "code",
   "execution_count": 3,
   "metadata": {},
   "outputs": [
    {
     "data": {
      "text/plain": [
       "{'Payments': 0.5300551976420204, 'Total': 190.81987115112733}"
      ]
     },
     "execution_count": 3,
     "metadata": {},
     "output_type": "execute_result"
    }
   ],
   "source": [
    "pmts(100, 0.05, 12, 360)"
   ]
  },
  {
   "cell_type": "code",
   "execution_count": 4,
   "metadata": {},
   "outputs": [
    {
     "data": {
      "text/plain": [
       "{'Payments': 0.5300551976420204, 'Total': 190.81987115112733}"
      ]
     },
     "execution_count": 4,
     "metadata": {},
     "output_type": "execute_result"
    }
   ],
   "source": [
    "pmts(100, 0.05, 12, 360)"
   ]
  },
  {
   "cell_type": "code",
   "execution_count": 6,
   "metadata": {},
   "outputs": [
    {
     "data": {
      "text/plain": [
       "{'Original Payments': 530.0551976420204,\n",
       " 'Original Total': 190819.87115112736,\n",
       " 'Original Number of Payments': 360,\n",
       " 'New Payments': 630.0551976420204,\n",
       " 'New Number of Payments': 256,\n",
       " 'New Total': 161198.4999758741,\n",
       " 'Savings': 29621.37117525327}"
      ]
     },
     "execution_count": 6,
     "metadata": {},
     "output_type": "execute_result"
    }
   ],
   "source": [
    "pmts_withover(100000, 0.05, 12, 360, 100)"
   ]
  },
  {
   "cell_type": "code",
   "execution_count": null,
   "metadata": {},
   "outputs": [],
   "source": []
  }
 ],
 "metadata": {
  "kernelspec": {
   "display_name": "Python 3",
   "language": "python",
   "name": "python3"
  },
  "language_info": {
   "codemirror_mode": {
    "name": "ipython",
    "version": 3
   },
   "file_extension": ".py",
   "mimetype": "text/x-python",
   "name": "python",
   "nbconvert_exporter": "python",
   "pygments_lexer": "ipython3",
   "version": "3.7.5"
  },
  "toc": {
   "base_numbering": 1,
   "nav_menu": {},
   "number_sections": true,
   "sideBar": true,
   "skip_h1_title": false,
   "title_cell": "Table of Contents",
   "title_sidebar": "Contents",
   "toc_cell": true,
   "toc_position": {},
   "toc_section_display": true,
   "toc_window_display": false
  }
 },
 "nbformat": 4,
 "nbformat_minor": 2
}
