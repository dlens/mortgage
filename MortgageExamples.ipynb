{
 "cells": [
  {
   "cell_type": "markdown",
   "metadata": {
    "toc": true
   },
   "source": [
    "<h1>Table of Contents<span class=\"tocSkip\"></span></h1>\n",
    "<div class=\"toc\"><ul class=\"toc-item\"><li><span><a href=\"#Mortgage-paydown\" data-toc-modified-id=\"Mortgage-paydown-1\"><span class=\"toc-item-num\">1&nbsp;&nbsp;</span>Mortgage paydown</a></span><ul class=\"toc-item\"><li><span><a href=\"#Main-ideas\" data-toc-modified-id=\"Main-ideas-1.1\"><span class=\"toc-item-num\">1.1&nbsp;&nbsp;</span>Main ideas</a></span></li><li><span><a href=\"#Assumptions\" data-toc-modified-id=\"Assumptions-1.2\"><span class=\"toc-item-num\">1.2&nbsp;&nbsp;</span>Assumptions</a></span></li></ul></li><li><span><a href=\"#Deriving-the-mathematical-formulas\" data-toc-modified-id=\"Deriving-the-mathematical-formulas-2\"><span class=\"toc-item-num\">2&nbsp;&nbsp;</span>Deriving the mathematical formulas</a></span><ul class=\"toc-item\"><li><span><a href=\"#Notation\" data-toc-modified-id=\"Notation-2.1\"><span class=\"toc-item-num\">2.1&nbsp;&nbsp;</span>Notation</a></span></li><li><span><a href=\"#The-recursive-formula-for-$A_i$\" data-toc-modified-id=\"The-recursive-formula-for-$A_i$-2.2\"><span class=\"toc-item-num\">2.2&nbsp;&nbsp;</span>The recursive formula for $A_i$</a></span></li><li><span><a href=\"#The-general-formula-for-$A_i$\" data-toc-modified-id=\"The-general-formula-for-$A_i$-2.3\"><span class=\"toc-item-num\">2.3&nbsp;&nbsp;</span>The general formula for $A_i$</a></span></li><li><span><a href=\"#The-formula-for-monthly-payments\" data-toc-modified-id=\"The-formula-for-monthly-payments-2.4\"><span class=\"toc-item-num\">2.4&nbsp;&nbsp;</span>The formula for monthly payments</a></span></li><li><span><a href=\"#Find-the-number-of-payments-given-a-monthly-payment-amount-(recursive)\" data-toc-modified-id=\"Find-the-number-of-payments-given-a-monthly-payment-amount-(recursive)-2.5\"><span class=\"toc-item-num\">2.5&nbsp;&nbsp;</span>Find the number of payments given a monthly payment amount (recursive)</a></span></li><li><span><a href=\"#Find-the-number-of-payments-given-a-montly-payment-amount-(formula)\" data-toc-modified-id=\"Find-the-number-of-payments-given-a-montly-payment-amount-(formula)-2.6\"><span class=\"toc-item-num\">2.6&nbsp;&nbsp;</span>Find the number of payments given a montly payment amount (formula)</a></span></li></ul></li><li><span><a href=\"#Computing-mortgage-information-in-Python\" data-toc-modified-id=\"Computing-mortgage-information-in-Python-3\"><span class=\"toc-item-num\">3&nbsp;&nbsp;</span>Computing mortgage information in Python</a></span></li></ul></div>"
   ]
  },
  {
   "cell_type": "markdown",
   "metadata": {},
   "source": [
    "# Mortgage paydown"
   ]
  },
  {
   "cell_type": "markdown",
   "metadata": {},
   "source": [
    "## Main ideas"
   ]
  },
  {
   "cell_type": "markdown",
   "metadata": {},
   "source": [
    "* Almost every mortgage today allows you to pay additionally towards your loan whenever you wish.\n",
    "* If you pay extra every month the loan **will** be paid off quicker.\n",
    "* How much quicker though?\n",
    "* Also the total amount you pay will be lower if you make that additional payment amount every month.\n",
    "* How much cheaper will it be?"
   ]
  },
  {
   "cell_type": "markdown",
   "metadata": {},
   "source": [
    "## Assumptions"
   ]
  },
  {
   "cell_type": "markdown",
   "metadata": {},
   "source": [
    "* The mortgage is a 30 year mortgage\n",
    "* You make 12 monthly payments a year, equally spaced through the year.\n",
    "* Your interest rate that is being quoted is an Annual Percentage Rate (APR)\n",
    "* You make your payment at the end of each month.\n",
    "* Just as your payment comes in, the bank calculates the interest over the previous month."
   ]
  },
  {
   "cell_type": "markdown",
   "metadata": {},
   "source": [
    "# Deriving the mathematical formulas"
   ]
  },
  {
   "cell_type": "markdown",
   "metadata": {},
   "source": [
    "## Notation"
   ]
  },
  {
   "cell_type": "markdown",
   "metadata": {},
   "source": [
    "* $A$ = amount of money borrowed on the mortgage.\n",
    "* $r$ = APR as a decimal\n",
    "* $k$ = number of payments per year (12 in our case, but we leave it as a variable)\n",
    "* $N$ = total number of payments to pay off the loan (starts as 360 monthly payments, but will go down when we pay extra)\n",
    "* $P$ = amount paid per month toward the loan\n",
    "* $A_i$ = amount left on the loan just before the $i^{th}$ payment is processed"
   ]
  },
  {
   "cell_type": "markdown",
   "metadata": {},
   "source": [
    "## The recursive formula for $A_i$"
   ]
  },
  {
   "cell_type": "markdown",
   "metadata": {},
   "source": [
    "We can derive a recursive formula for $A_i$ as follows.\n",
    "\n",
    "* At the end of the $i^{th}$ month you have had $A_{i-1}$ getting interest for $1/k$ of a year.  Since $k=12$ for us by default, this means it has been accruing interest for one month.\n",
    "* That amount of principal plus interest is:\n",
    "$$A_{i-1}\\cdot(1+r)^{1/k}$$\n",
    "* Since $(1+r)^{1/k}$ comes up frequently, let's give it a new variable name, $gamma$:\n",
    "$$\\gamma = (1+r)^{1/k}$$\n",
    "* With that notation, principal plus interest is:\n",
    "$$A_{i-1}\\gamma$$\n",
    "* Then we immediately pay our payment of $P$, to get the amount $A_{i}$ we now owe:\n",
    "$$A_{i}=A_{i-1}\\gamma - P$$"
   ]
  },
  {
   "cell_type": "markdown",
   "metadata": {},
   "source": [
    "## The general formula for $A_i$"
   ]
  },
  {
   "cell_type": "markdown",
   "metadata": {},
   "source": [
    "We can use that recursive formula to prove the general formula for $A_i$:\n",
    "$$A_i = A\\gamma^i - \\left(\\frac{1-\\gamma^i}{1-\\gamma}\\right)P$$"
   ]
  },
  {
   "cell_type": "markdown",
   "metadata": {},
   "source": [
    "**Proof by recursion**\n",
    "\n",
    "For $i=0$, when we start the formula devolves into:\n",
    "$$A_0=A\\gamma^0 - \\frac{1-\\gamma^0}{1-\\gamma}P= A$$\n",
    "\n",
    "In other words, when we start we owe $A$, which is true.  Now we need to prove the induction step.  That is, given that formula for $A_j$ is true for the amount owed after the $j^{th}$ prove the formula for $j+1$. We know our recursion formula:\n",
    "$$A_{j+1} = A_j \\gamma - P$$\n",
    "But we know the general formula for $j$, so:\n",
    "$$A_{j}=A\\gamma^j - \\left(\\frac{1-\\gamma^j}{1-\\gamma}\\right)P$$\n",
    "Plugging this into the recursion formula:\n",
    "$$A_{j+1} = \\left(A\\gamma^j - \\left(\\frac{1-\\gamma^j}{1-\\gamma}\\right)P\\right)\\gamma - P$$\n",
    "$$=A\\gamma^{j+1} - \\gamma\\left(\\frac{1-\\gamma^j}{1-\\gamma}\\right)P - P $$\n",
    "$$=A\\gamma^{j+1} - \\left(\\frac{\\gamma-\\gamma^{j+1}}{1-\\gamma}\\right)P - P $$\n",
    "$$=A\\gamma^{j+1} - \\left(\\frac{\\gamma-\\gamma^{j+1}}{1-\\gamma}\\right)P - \\frac{1-\\gamma}{1-\\gamma}P $$\n",
    "$$=A\\gamma^{j+1} - \\left(\\frac{\\gamma-\\gamma^{j+1}+1-\\gamma}{1-\\gamma}\\right)P $$\n",
    "$$=A\\gamma^{j+1} - \\left(\\frac{1-\\gamma^{j+1}}{1-\\gamma}\\right)P $$\n"
   ]
  },
  {
   "cell_type": "markdown",
   "metadata": {},
   "source": [
    "## The formula for monthly payments"
   ]
  },
  {
   "cell_type": "markdown",
   "metadata": {},
   "source": [
    "We can use the previous formula to solve for monthly payments needed to pay off a mortgage.  In that case our variables are:\n",
    "* $A$ = amount borrowed.\n",
    "* $N$ = Number of payments to make on the mortgage.  We default this to 360 (30 years of monthly payments)\n",
    "* $k$ = Number of payments per year, for us it is 12.\n",
    "* $r$ = the APR of the loan\n",
    "* $A_N$ = the amount after the last payment, since we are paying off, this is 0\n",
    "* $\\gamma = (1+k)^{1/k}$\n",
    "* $P$ = our periodic (monthly) payment (that we are solving for)\n",
    "\n",
    "Plugging into our formula, and solving for $P$:\n",
    "$$A_N = A\\gamma^N - \\left(\\frac{1-\\gamma^N}{1-\\gamma}\\right)P$$\n",
    "$$0 = A\\gamma^N - \\left(\\frac{1-\\gamma^N}{1-\\gamma}\\right)P$$\n",
    "$$\\left(\\frac{1-\\gamma^N}{1-\\gamma}\\right)P = A\\gamma^N$$\n",
    "$$P=A\\gamma^N \\frac{1-\\gamma}{1-\\gamma^N}$$"
   ]
  },
  {
   "cell_type": "markdown",
   "metadata": {},
   "source": [
    "## Find the number of payments given a monthly payment amount (recursive)"
   ]
  },
  {
   "cell_type": "markdown",
   "metadata": {},
   "source": [
    "When we adjust up the amount we pay, we need to find how many payments we need to make.  We can use our recursive formula and continually subtract the payment until we are out of debt.  The steps are:\n",
    "1. Initialize \n",
    "  1. $amountLeft=A$\n",
    "  2. $amountPaid=0$\n",
    "  3. $numberOfPayments=0$\n",
    "2. While $amountLeft>0$ we do the following.\n",
    "  1. Add the interest earned to the amount left by using our recursive formula, i.e.\n",
    "  $$amountLeft=\\gamma \\cdot amountLeft$$\n",
    "  1. Increment $numberOfPayments$ by 1.\n",
    "  1. If $amountLeft \\geq P$ we subtract $P$ from $amountLeft$ and add $P$ to $amountPaid$.\n",
    "  1. Else you have less than one full payment left so:\n",
    "      1. add $amountLeft$ to $amountPaid$ because you have to pay off that last bit\n",
    "      1. set $amountLeft=0$\n",
    "      "
   ]
  },
  {
   "cell_type": "markdown",
   "metadata": {},
   "source": [
    "## Find the number of payments given a montly payment amount (formula)"
   ]
  },
  {
   "cell_type": "markdown",
   "metadata": {},
   "source": [
    "We can derive a closed for formula for $N$ the number of payments.  Of course if $N$ comes out as a non-integer, that makes totaling up the payments difficult, but not impossible.  First we derive the formula for $N$.  Let's state our knowns and what we are solving for:\n",
    "* $A$ = amount borrowed.\n",
    "* $N$ = (Solving for) Number of payments to make on the mortgage.\n",
    "* $k$ = Number of payments per year, for us it is 12.\n",
    "* $r$ = the APR of the loan\n",
    "* $A_N$ = the amount after the last payment, since we are paying off, this is 0\n",
    "* $\\gamma = (1+k)^{1/k}$\n",
    "* $P$ = our periodic (monthly) payment\n",
    "\n",
    "$$A_N = A\\gamma^N - \\left(\\frac{1-\\gamma^N}{1-\\gamma}\\right)P$$\n",
    "$$0 = A\\gamma^N - \\left(\\frac{1-\\gamma^N}{1-\\gamma}\\right)P$$\n",
    "$$A\\gamma^N = \\left(\\frac{1-\\gamma^N}{1-\\gamma}\\right)P$$\n",
    "$$\\frac{A}{P}= \\left(\\frac{1-\\gamma^N}{1-\\gamma}\\right)\\frac{1}{\\gamma^N}$$\n",
    "$$\\frac{A}{P}= \\left(\\frac{\\gamma^{-N}-1}{1-\\gamma}\\right)$$\n",
    "$$\\frac{A}{P}(1-\\gamma)= \\gamma^{-N}-1$$\n",
    "$$\\frac{A}{P}(1-\\gamma)+1= \\gamma^{-N}$$\n",
    "$$\\ln\\left(\\frac{A}{P}(1-\\gamma)+1\\right)= \\ln\\left(\\gamma^{-N}\\right)$$\n",
    "$$\\ln\\left(\\frac{A}{P}(1-\\gamma)+1\\right)= -N\\cdot\\ln\\left(\\gamma\\right)$$\n",
    "$$-\\ln\\left(\\frac{A}{P}(1-\\gamma)+1\\right)\\cdot \\frac{1}{\\ln(\\gamma)}= N$$\n",
    "\n",
    "Of course we cannot do a fractional payment, per se.  So the actual number of payments $\\widehat{N}$ is:\n",
    "$$\\widehat{N} = ceil(N)$$\n",
    "in other words round up the floating number $N$.  The only question is the last payment, how much will it be.  We can find that, and the total amount by:\n",
    "\n",
    "1. The amount spent up to the last payment is $P\\cdot(\\widehat{N}-1)$.\n",
    "2. The amount left after that payment is given by $A_{\\widehat{N}}$ which can be found from our formula:\n",
    "$$A_{\\widehat{N}} = A\\gamma^{\\widehat{N}} - \\left(\\frac{1-\\gamma^{\\widehat{N}}}{1-\\gamma}\\right)P$$\n",
    "3. Just before the last payment that value $A_{\\widehat{N}}$ will accrue interest to be:\n",
    "$$A_{\\widehat{N}} \\cdot \\gamma$$\n",
    "4. That amount is our last payment, i.e. the last payment amount is $A_{\\widehat{N}} \\cdot \\gamma$.\n",
    "5. The total amount paid is then the first $\\widehat{N}-1$ payments of $P$ plus the last payment, i.e.\n",
    "$$\\hbox{Total Paid}=P\\cdot(\\widehat{N}-1)+A_{\\widehat{N}} \\cdot \\gamma$$\n"
   ]
  },
  {
   "cell_type": "markdown",
   "metadata": {},
   "source": [
    "# Computing mortgage information in Python"
   ]
  },
  {
   "cell_type": "code",
   "execution_count": 1,
   "metadata": {},
   "outputs": [],
   "source": [
    "import math"
   ]
  },
  {
   "cell_type": "code",
   "execution_count": 75,
   "metadata": {},
   "outputs": [],
   "source": [
    "def pmts(A, r, k, N, return_all=True):\n",
    "    '''\n",
    "    What are my monthly payments if I borrow A dollars at r APR compounded k times\n",
    "    a year with the payment at the very end of the compounding period, \n",
    "    paying it off after N payments?\n",
    "    '''\n",
    "    gamma = (1+r)**(1/k)\n",
    "    pmts=A*(1-gamma)/(1-gamma**N)*gamma**N\n",
    "    if return_all:\n",
    "        return {\"Payments\":pmts,\n",
    "               \"Total\":pmts*N}\n",
    "    else:\n",
    "        return pmts\n",
    "    \n",
    "def pmts_withover(A, r, k, N, over_amt):\n",
    "    '''\n",
    "    Calculates savings is you over pay on a mortgage loan for A dollars, at r APR\n",
    "    compounded k times a year and getting paid on that date.  First calls\n",
    "    pmts() to get the N payment amount.  Then I we add over_amt then we calculate the\n",
    "    amortization table, essentially, at the new payment amount.\n",
    "    '''\n",
    "    pmt = pmts(A, r, k, N, return_all=False)\n",
    "    new_pmt = pmt + over_amt\n",
    "    amount_left = A\n",
    "    gamma = (1+r)**(1/k)\n",
    "    total_paid = 0\n",
    "    pmt_count = 0\n",
    "    while amount_left > 0:\n",
    "        # Add interest to amount left\n",
    "        amount_left *= gamma\n",
    "        # Subtract our payment, or the amount left, whichever is less\n",
    "        if amount_left > new_pmt:\n",
    "            # Just subtract a payment\n",
    "            amount_left -= new_pmt\n",
    "            total_paid += new_pmt\n",
    "        else:\n",
    "            # Just subtract the amount left\n",
    "            total_paid += amount_left\n",
    "            amount_left = 0\n",
    "        pmt_count += 1\n",
    "    # Let's tell you everything\n",
    "    return {\n",
    "        \"Original Payments\": pmt,\n",
    "        \"Original Total\": pmt*N,\n",
    "        \"Original Number of Payments\":N,\n",
    "        \"New Payments\": new_pmt,\n",
    "        \"New Number of Payments\": pmt_count,\n",
    "        \"New Total\": total_paid,\n",
    "        \"Savings\": (pmt*N - total_paid)\n",
    "    }\n",
    "\n",
    "def npmts(A, r, k, P):\n",
    "    gamma = (1+r)**(1/k)\n",
    "    return math.log(1+A/P*(1-gamma))/-math.log(gamma)\n",
    "\n",
    "def pmts_withover_formulaic(A, r, k, N, over_amt):\n",
    "    '''\n",
    "    Calculates savings is you over pay on a mortgage loan for A dollars, at r APR\n",
    "    compounded k times a year and getting paid on that date.  First calls\n",
    "    pmts() to get the N payment amount.  Then I we add over_amt then we calculate the\n",
    "    amortization table, essentially, at the new payment amount.\n",
    "    '''\n",
    "    pmt = pmts(A, r, k, N, return_all=False)\n",
    "    new_pmt = pmt + over_amt\n",
    "    amount_left = A\n",
    "    gamma = (1+r)**(1/k)\n",
    "    total_paid = 0\n",
    "    pmt_count = 0\n",
    "    pmt_count = math.ceil(npmts(A, r, k, new_pmt))\n",
    "    all_but_last = (pmt_count-1) * new_pmt\n",
    "    amount_left_before_last = A*gamma**(pmt_count-1)-(1-gamma**(pmt_count-1))/(1-gamma)*new_pmt\n",
    "    display(amount_left_before_last)\n",
    "    total_paid = all_but_last + amount_left_before_last*gamma\n",
    "    # Let's tell you everything\n",
    "    return {\n",
    "        \"Original Payments\": pmt,\n",
    "        \"Original Total\": pmt*N,\n",
    "        \"Original Number of Payments\":N,\n",
    "        \"New Payments\": new_pmt,\n",
    "        \"New Number of Payments\": pmt_count,\n",
    "        \"New Total\": total_paid,\n",
    "        \"Savings\": (pmt*N - total_paid)\n",
    "    }\n",
    "\n"
   ]
  },
  {
   "cell_type": "code",
   "execution_count": 76,
   "metadata": {},
   "outputs": [
    {
     "data": {
      "text/plain": [
       "{'Payments': 0.5300551976420204, 'Total': 190.81987115112733}"
      ]
     },
     "execution_count": 76,
     "metadata": {},
     "output_type": "execute_result"
    }
   ],
   "source": [
    "pmts(100, 0.05, 12, 360)"
   ]
  },
  {
   "cell_type": "code",
   "execution_count": 77,
   "metadata": {},
   "outputs": [
    {
     "data": {
      "text/plain": [
       "{'Payments': 0.5300551976420204, 'Total': 190.81987115112733}"
      ]
     },
     "execution_count": 77,
     "metadata": {},
     "output_type": "execute_result"
    }
   ],
   "source": [
    "pmts(100, 0.05, 12, 360)"
   ]
  },
  {
   "cell_type": "code",
   "execution_count": 78,
   "metadata": {},
   "outputs": [
    {
     "data": {
      "text/plain": [
       "{'Original Payments': 530.0551976420204,\n",
       " 'Original Total': 190819.87115112736,\n",
       " 'Original Number of Payments': 360,\n",
       " 'New Payments': 630.0551976420204,\n",
       " 'New Number of Payments': 256,\n",
       " 'New Total': 161198.4999758741,\n",
       " 'Savings': 29621.37117525327}"
      ]
     },
     "execution_count": 78,
     "metadata": {},
     "output_type": "execute_result"
    }
   ],
   "source": [
    "pmts_withover(100000, 0.05, 12, 360, 100)"
   ]
  },
  {
   "cell_type": "code",
   "execution_count": 79,
   "metadata": {},
   "outputs": [
    {
     "data": {
      "text/plain": [
       "358.5505368878489"
      ]
     },
     "execution_count": 79,
     "metadata": {},
     "output_type": "execute_result"
    }
   ],
   "source": [
    "np=npmts(100000, 0.05, 12, 531)\n",
    "np"
   ]
  },
  {
   "cell_type": "code",
   "execution_count": 80,
   "metadata": {},
   "outputs": [
    {
     "data": {
      "text/plain": [
       "{'Original Payments': 530.0551976420204,\n",
       " 'Original Total': 190819.87115112736,\n",
       " 'Original Number of Payments': 360,\n",
       " 'New Payments': 531.0,\n",
       " 'New Number of Payments': 359,\n",
       " 'New Total': 190390.60218268397,\n",
       " 'Savings': 429.26896844338626}"
      ]
     },
     "execution_count": 80,
     "metadata": {},
     "output_type": "execute_result"
    }
   ],
   "source": [
    "pmts_withover(100000, 0.05, 12, 360, 531-530.0551976420204)"
   ]
  },
  {
   "cell_type": "code",
   "execution_count": 81,
   "metadata": {},
   "outputs": [
    {
     "data": {
      "text/plain": [
       "291.41492221847875"
      ]
     },
     "metadata": {},
     "output_type": "display_data"
    },
    {
     "data": {
      "text/plain": [
       "{'Original Payments': 530.0551976420204,\n",
       " 'Original Total': 190819.87115112736,\n",
       " 'Original Number of Payments': 360,\n",
       " 'New Payments': 531.0,\n",
       " 'New Number of Payments': 359,\n",
       " 'New Total': 190390.602182684,\n",
       " 'Savings': 429.26896844335715}"
      ]
     },
     "execution_count": 81,
     "metadata": {},
     "output_type": "execute_result"
    }
   ],
   "source": [
    "pmts_withover_formulaic(100000, 0.05, 12, 360, 531-530.0551976420204)"
   ]
  },
  {
   "cell_type": "code",
   "execution_count": null,
   "metadata": {},
   "outputs": [],
   "source": []
  }
 ],
 "metadata": {
  "kernelspec": {
   "display_name": "Python 3",
   "language": "python",
   "name": "python3"
  },
  "language_info": {
   "codemirror_mode": {
    "name": "ipython",
    "version": 3
   },
   "file_extension": ".py",
   "mimetype": "text/x-python",
   "name": "python",
   "nbconvert_exporter": "python",
   "pygments_lexer": "ipython3",
   "version": "3.7.5"
  },
  "toc": {
   "base_numbering": 1,
   "nav_menu": {},
   "number_sections": true,
   "sideBar": true,
   "skip_h1_title": false,
   "title_cell": "Table of Contents",
   "title_sidebar": "Contents",
   "toc_cell": true,
   "toc_position": {},
   "toc_section_display": true,
   "toc_window_display": false
  }
 },
 "nbformat": 4,
 "nbformat_minor": 2
}
